{
 "cells": [
  {
   "cell_type": "code",
   "execution_count": 14,
   "metadata": {},
   "outputs": [],
   "source": [
    "import googlemaps\n",
    "from datetime import datetime\n",
    "\n",
    "with open('api_key.txt') as f:\n",
    "    api_key = f.readline()\n",
    "    f.close\n",
    "gmaps = googlemaps.Client(api_key)"
   ]
  },
  {
   "cell_type": "code",
   "execution_count": 15,
   "metadata": {},
   "outputs": [],
   "source": [
    "# Geocode helper functions\n",
    "\n",
    "# returns the geocode (json containing details of the location)\n",
    "def google_get_geocode(location):\n",
    "    try: \n",
    "        geocode_result = gmaps.geocode(location)\n",
    "        return geocode_result[0]\n",
    "    except: return None\n",
    "\n",
    "# returns latitude given the geocode json\n",
    "def google_get_latitude(geocode):\n",
    "    try: \n",
    "        return geocode['geometry']['location']['lat']\n",
    "    except: \n",
    "        return None\n",
    "\n",
    "# returns longitude given the geocode json\n",
    "def google_get_longitude(geocode):\n",
    "    try: \n",
    "        return geocode['geometry']['location']['lng']\n",
    "    except: \n",
    "        return None\n",
    "\n",
    "# returns address given the geocode json\n",
    "def google_get_address(geocode):\n",
    "    try: \n",
    "        return geocode['formatted_address']\n",
    "    except: \n",
    "        return None"
   ]
  },
  {
   "cell_type": "code",
   "execution_count": 16,
   "metadata": {},
   "outputs": [],
   "source": [
    "import pandas as pd\n",
    "import numpy as np"
   ]
  },
  {
   "cell_type": "code",
   "execution_count": 17,
   "metadata": {},
   "outputs": [],
   "source": [
    "sm_df = pd.read_csv('data/sm.csv')\n",
    "ayala_df = pd.read_csv('data/ayala.csv')\n",
    "robinsons_df = pd.read_csv('data/robinsons.csv')"
   ]
  },
  {
   "cell_type": "code",
   "execution_count": 18,
   "metadata": {},
   "outputs": [],
   "source": [
    "sm_df['temp_mall_address'] = sm_df['mall_name'] + ', ' +sm_df['mall_address']\n",
    "ayala_df['temp_mall_address'] = ayala_df['mall_address']\n",
    "robinsons_df['temp_mall_address'] = robinsons_df['mall_name'] + ', ' +robinsons_df['mall_address']"
   ]
  },
  {
   "cell_type": "code",
   "execution_count": 19,
   "metadata": {},
   "outputs": [],
   "source": [
    "geocode_data = []\n",
    "data_list = [sm_df, ayala_df, robinsons_df]\n",
    "\n",
    "# get geocode, latitude, longitude, and formatted address of each mall\n",
    "for table in data_list:\n",
    "    table['geocode'] = table.temp_mall_address.apply(google_get_geocode)\n",
    "    table['latitude'] = table.geocode.apply(google_get_latitude)\n",
    "    table['longitude'] = table.geocode.apply(google_get_longitude)\n",
    "    table['formatted_address'] = table.geocode.apply(google_get_address)"
   ]
  },
  {
   "cell_type": "code",
   "execution_count": 20,
   "metadata": {},
   "outputs": [],
   "source": [
    "del sm_df['temp_mall_address']\n",
    "del ayala_df['temp_mall_address']\n",
    "del robinsons_df['temp_mall_address']"
   ]
  },
  {
   "cell_type": "code",
   "execution_count": 79,
   "metadata": {
    "scrolled": true
   },
   "outputs": [],
   "source": [
    "def get_province(geocode):\n",
    "    for x in geocode['address_components']:\n",
    "        if x['types'][0] == 'administrative_area_level_1':\n",
    "            if x['long_name'] == 'Metro Manila':\n",
    "                #print(\"Manila\")\n",
    "                return x['long_name']\n",
    "        if x['types'][0] == 'administrative_area_level_2':\n",
    "            #print(x['long_name'])\n",
    "            return x['long_name']\n",
    "\n",
    "sm_df['province'] = sm_df.geocode.apply(get_province)\n",
    "ayala_df['province'] = ayala_df.geocode.apply(get_province)\n",
    "robinsons_df['province'] = robinsons_df.geocode.apply(get_province)"
   ]
  },
  {
   "cell_type": "code",
   "execution_count": 80,
   "metadata": {},
   "outputs": [],
   "source": [
    "import os\n",
    "directory = 'data'\n",
    "if not os.path.exists(directory):\n",
    "    os.makedirs(directory)"
   ]
  },
  {
   "cell_type": "code",
   "execution_count": 88,
   "metadata": {},
   "outputs": [
    {
     "data": {
      "text/html": [
       "<div>\n",
       "<style scoped>\n",
       "    .dataframe tbody tr th:only-of-type {\n",
       "        vertical-align: middle;\n",
       "    }\n",
       "\n",
       "    .dataframe tbody tr th {\n",
       "        vertical-align: top;\n",
       "    }\n",
       "\n",
       "    .dataframe thead th {\n",
       "        text-align: right;\n",
       "    }\n",
       "</style>\n",
       "<table border=\"1\" class=\"dataframe\">\n",
       "  <thead>\n",
       "    <tr style=\"text-align: right;\">\n",
       "      <th></th>\n",
       "      <th>mall_name</th>\n",
       "      <th>mall_address</th>\n",
       "      <th>mall_contact_no</th>\n",
       "      <th>image_link</th>\n",
       "      <th>fb_link</th>\n",
       "      <th>logo_link</th>\n",
       "      <th>geocode</th>\n",
       "      <th>latitude</th>\n",
       "      <th>longitude</th>\n",
       "      <th>formatted_address</th>\n",
       "      <th>province</th>\n",
       "    </tr>\n",
       "  </thead>\n",
       "  <tbody>\n",
       "    <tr>\n",
       "      <th>3</th>\n",
       "      <td>Greenbelt</td>\n",
       "      <td>Greenbelt Mall, Legazpi Street, Makati City</td>\n",
       "      <td>+63 2 7795-9595\\n+63 2 7729 2137</td>\n",
       "      <td>https://s3-ap-southeast-1.amazonaws.com/interi...</td>\n",
       "      <td>facebook.com/Greenbelt.Ayala Malls</td>\n",
       "      <td>https://s3-ap-southeast-1.amazonaws.com/interi...</td>\n",
       "      <td>{'address_components': [{'long_name': 'Legazpi...</td>\n",
       "      <td>14.55293</td>\n",
       "      <td>121.021003</td>\n",
       "      <td>Legazpi Street, Makati, Kalakhang Maynila, Phi...</td>\n",
       "      <td>None</td>\n",
       "    </tr>\n",
       "  </tbody>\n",
       "</table>\n",
       "</div>"
      ],
      "text/plain": [
       "   mall_name                                 mall_address  \\\n",
       "3  Greenbelt  Greenbelt Mall, Legazpi Street, Makati City   \n",
       "\n",
       "                    mall_contact_no  \\\n",
       "3  +63 2 7795-9595\\n+63 2 7729 2137   \n",
       "\n",
       "                                          image_link  \\\n",
       "3  https://s3-ap-southeast-1.amazonaws.com/interi...   \n",
       "\n",
       "                              fb_link  \\\n",
       "3  facebook.com/Greenbelt.Ayala Malls   \n",
       "\n",
       "                                           logo_link  \\\n",
       "3  https://s3-ap-southeast-1.amazonaws.com/interi...   \n",
       "\n",
       "                                             geocode  latitude   longitude  \\\n",
       "3  {'address_components': [{'long_name': 'Legazpi...  14.55293  121.021003   \n",
       "\n",
       "                                   formatted_address province  \n",
       "3  Legazpi Street, Makati, Kalakhang Maynila, Phi...     None  "
      ]
     },
     "execution_count": 88,
     "metadata": {},
     "output_type": "execute_result"
    }
   ],
   "source": [
    "ayala_df[ayala_df['province'].isna()]"
   ]
  },
  {
   "cell_type": "code",
   "execution_count": 96,
   "metadata": {},
   "outputs": [],
   "source": [
    "ayala_df.loc[3, 'province'] = \"Metro Manila\"\n",
    "\n",
    "# replace Greenbelt null province to Metro Manila"
   ]
  },
  {
   "cell_type": "code",
   "execution_count": 97,
   "metadata": {},
   "outputs": [],
   "source": [
    "dict_df = {'sm.csv': sm_df,\n",
    "           'ayala.csv': ayala_df,\n",
    "           'robinsons.csv': robinsons_df}\n",
    "\n",
    "for key,val in dict_df.items():\n",
    "    val.to_csv(os.path.join(directory, key), index=False)"
   ]
  },
  {
   "cell_type": "code",
   "execution_count": null,
   "metadata": {},
   "outputs": [],
   "source": []
  }
 ],
 "metadata": {
  "kernelspec": {
   "display_name": "Python 3",
   "language": "python",
   "name": "python3"
  },
  "language_info": {
   "codemirror_mode": {
    "name": "ipython",
    "version": 3
   },
   "file_extension": ".py",
   "mimetype": "text/x-python",
   "name": "python",
   "nbconvert_exporter": "python",
   "pygments_lexer": "ipython3",
   "version": "3.6.9"
  }
 },
 "nbformat": 4,
 "nbformat_minor": 2
}
