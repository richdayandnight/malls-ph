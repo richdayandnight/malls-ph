{
 "cells": [
  {
   "cell_type": "code",
   "execution_count": 1,
   "metadata": {},
   "outputs": [],
   "source": [
    "import googlemaps\n",
    "from datetime import datetime\n",
    "\n",
    "with open('api_key.txt') as f:\n",
    "    api_key = f.readline()\n",
    "    f.close\n",
    "gmaps = googlemaps.Client(api_key)"
   ]
  },
  {
   "cell_type": "code",
   "execution_count": 2,
   "metadata": {},
   "outputs": [],
   "source": [
    "# Geocode helper functions\n",
    "\n",
    "# returns the geocode (json containing details of the location)\n",
    "def google_get_geocode(location):\n",
    "    try: \n",
    "        geocode_result = gmaps.geocode(location)\n",
    "        return geocode_result[0]\n",
    "    except: return None\n",
    "\n",
    "# returns latitude given the geocode json\n",
    "def google_get_latitude(geocode):\n",
    "    try: \n",
    "        return geocode['geometry']['location']['lat']\n",
    "    except: \n",
    "        return None\n",
    "\n",
    "# returns longitude given the geocode json\n",
    "def google_get_longitude(geocode):\n",
    "    try: \n",
    "        return geocode['geometry']['location']['lng']\n",
    "    except: \n",
    "        return None\n",
    "\n",
    "# returns address given the geocode json\n",
    "def google_get_address(geocode):\n",
    "    try: \n",
    "        return geocode['formatted_address']\n",
    "    except: \n",
    "        return None"
   ]
  },
  {
   "cell_type": "code",
   "execution_count": 4,
   "metadata": {},
   "outputs": [],
   "source": [
    "import pandas as pd\n",
    "import numpy as np"
   ]
  },
  {
   "cell_type": "code",
   "execution_count": 5,
   "metadata": {},
   "outputs": [],
   "source": [
    "sm_df = pd.read_csv('data/sm.csv')\n",
    "ayala_df = pd.read_csv('data/ayala.csv')\n",
    "robinsons_df = pd.read_csv('data/robinsons.csv')"
   ]
  },
  {
   "cell_type": "code",
   "execution_count": 10,
   "metadata": {},
   "outputs": [],
   "source": [
    "sm_df['temp_mall_address'] = sm_df['mall_name'] + ', ' +sm_df['mall_address']"
   ]
  },
  {
   "cell_type": "code",
   "execution_count": 11,
   "metadata": {},
   "outputs": [],
   "source": [
    "geocode_data = []\n",
    "data_list = [sm_df]\n",
    "\n",
    "# get geocode, latitude, longitude, and formatted address of each place of occurrence \n",
    "# in the accident_df, incident_df, and serious_incident_df tables\n",
    "for table in data_list:\n",
    "    table['geocode'] = table.temp_mall_address.apply(google_get_geocode)\n",
    "    table['latitude'] = table.geocode.apply(google_get_latitude)\n",
    "    table['longitude'] = table.geocode.apply(google_get_longitude)\n",
    "    table['formatted_address'] = table.geocode.apply(google_get_address)"
   ]
  },
  {
   "cell_type": "code",
   "execution_count": 13,
   "metadata": {},
   "outputs": [],
   "source": [
    "del sm_df['temp_mall_address']"
   ]
  },
  {
   "cell_type": "code",
   "execution_count": 14,
   "metadata": {},
   "outputs": [],
   "source": [
    "import os\n",
    "directory = 'data'\n",
    "if not os.path.exists(directory):\n",
    "    os.makedirs(directory)"
   ]
  },
  {
   "cell_type": "code",
   "execution_count": 15,
   "metadata": {},
   "outputs": [],
   "source": [
    "dict_df = {'sm_with_geocode.csv': sm_df}\n",
    "\n",
    "for key,val in dict_df.items():\n",
    "    val.to_csv(os.path.join(directory, key), index=False)"
   ]
  },
  {
   "cell_type": "code",
   "execution_count": null,
   "metadata": {},
   "outputs": [],
   "source": []
  }
 ],
 "metadata": {
  "kernelspec": {
   "display_name": "Python 3",
   "language": "python",
   "name": "python3"
  },
  "language_info": {
   "codemirror_mode": {
    "name": "ipython",
    "version": 3
   },
   "file_extension": ".py",
   "mimetype": "text/x-python",
   "name": "python",
   "nbconvert_exporter": "python",
   "pygments_lexer": "ipython3",
   "version": "3.6.9"
  }
 },
 "nbformat": 4,
 "nbformat_minor": 2
}
